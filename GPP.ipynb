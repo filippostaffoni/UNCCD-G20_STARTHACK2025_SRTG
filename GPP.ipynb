{
  "nbformat": 4,
  "nbformat_minor": 0,
  "metadata": {
    "colab": {
      "provenance": []
    },
    "kernelspec": {
      "name": "python3",
      "display_name": "Python 3"
    },
    "language_info": {
      "name": "python"
    }
  },
  "cells": [
    {
      "cell_type": "code",
      "source": [
        "%pwd"
      ],
      "metadata": {
        "id": "fBSipvyQGRe2"
      },
      "execution_count": null,
      "outputs": []
    },
    {
      "cell_type": "code",
      "source": [
        "!unzip clipped_dataset.zip"
      ],
      "metadata": {
        "id": "eCD4JFTcptQL"
      },
      "execution_count": null,
      "outputs": []
    },
    {
      "cell_type": "code",
      "source": [
        "!pip install rasterio"
      ],
      "metadata": {
        "id": "qXilyh-apwGt"
      },
      "execution_count": null,
      "outputs": []
    },
    {
      "cell_type": "code",
      "execution_count": null,
      "metadata": {
        "collapsed": true,
        "id": "suIYtf0XFvtx"
      },
      "outputs": [],
      "source": [
        "!unzip clipped_dataset.zip"
      ]
    },
    {
      "cell_type": "markdown",
      "source": [
        "# MODIS LAND COVER"
      ],
      "metadata": {
        "id": "xDslrECpHMkx"
      }
    },
    {
      "cell_type": "code",
      "source": [
        "!pip install rasterio"
      ],
      "metadata": {
        "id": "TNk3LuYEHl6K"
      },
      "execution_count": null,
      "outputs": []
    },
    {
      "cell_type": "code",
      "source": [
        "import rasterio\n",
        "from rasterio.plot import show\n",
        "import matplotlib.pyplot as plt\n",
        "import numpy as np\n",
        "from matplotlib.colors import ListedColormap\n",
        "import os\n",
        "\n",
        "# Path to your data folder\n",
        "data_folder = \"/content/Datasets_Hackathon/Modis_Land_Cover_Data\"\n",
        "\n",
        "# Function to visualize a single MODIS Land Cover file\n",
        "def visualize_modis_landcover(tif_file, title):\n",
        "    # Open the TIFF file\n",
        "    with rasterio.open(tif_file) as src:\n",
        "        # Read the data\n",
        "        landcover_data = src.read(1)  # Read the first band\n",
        "\n",
        "        # Get basic information about the data\n",
        "        print(f\"Data shape: {landcover_data.shape}\")\n",
        "        print(f\"Unique values: {np.unique(landcover_data)}\")\n",
        "\n",
        "        # Create a simple color map for land cover classes\n",
        "        # You might want to customize this based on MODIS land cover classification scheme\n",
        "        n_classes = len(np.unique(landcover_data))\n",
        "        colors = plt.cm.viridis(np.linspace(0, 1, n_classes))\n",
        "        cmap = ListedColormap(colors)\n",
        "\n",
        "        # Plot the data\n",
        "        plt.figure(figsize=(12, 8))\n",
        "        show(landcover_data, cmap=cmap, title=title)\n",
        "        plt.colorbar(label='Land Cover Class')\n",
        "        plt.tight_layout()\n",
        "        plt.show()\n",
        "\n",
        "# Visualize 2010 data\n",
        "tif_2010 = os.path.join(data_folder, \"2010LCT.tif\")\n",
        "if os.path.exists(tif_2010):\n",
        "    visualize_modis_landcover(tif_2010, \"MODIS Land Cover 2010\")\n",
        "\n",
        "# Visualize 2011 data\n",
        "tif_2011 = os.path.join(data_folder, \"2011LCT.tif\")\n",
        "if os.path.exists(tif_2011):\n",
        "    visualize_modis_landcover(tif_2011, \"MODIS Land Cover 2011\")\n",
        "\n",
        "# To compare the two years, we can visualize them side by side\n",
        "def compare_years(tif_2010, tif_2011):\n",
        "    fig, axes = plt.subplots(1, 2, figsize=(20, 8))\n",
        "\n",
        "    with rasterio.open(tif_2010) as src_2010:\n",
        "        data_2010 = src_2010.read(1)\n",
        "        n_classes = len(np.unique(data_2010))\n",
        "        cmap = ListedColormap(plt.cm.viridis(np.linspace(0, 1, n_classes)))\n",
        "        show(data_2010, cmap=cmap, ax=axes[0], title=\"Land Cover 2010\")\n",
        "\n",
        "    with rasterio.open(tif_2011) as src_2011:\n",
        "        data_2011 = src_2011.read(1)\n",
        "        show(data_2011, cmap=cmap, ax=axes[1], title=\"Land Cover 2011\")\n",
        "\n",
        "    plt.tight_layout()\n",
        "    plt.show()\n",
        "\n",
        "    # Optionally calculate and visualize the difference between years\n",
        "    if data_2010.shape == data_2011.shape:\n",
        "        plt.figure(figsize=(12, 8))\n",
        "        diff = data_2011.astype(int) - data_2010.astype(int)\n",
        "        plt.imshow(diff, cmap='RdBu', vmin=-5, vmax=5)\n",
        "        plt.colorbar(label='Change (2011 - 2010)')\n",
        "        plt.title(\"Land Cover Change 2010 to 2011\")\n",
        "        plt.tight_layout()\n",
        "        plt.show()\n",
        "\n",
        "# Compare both years if both files exist\n",
        "if os.path.exists(tif_2010) and os.path.exists(tif_2011):\n",
        "    compare_years(tif_2010, tif_2011)"
      ],
      "metadata": {
        "id": "wawTmAy4Hq9v"
      },
      "execution_count": null,
      "outputs": []
    },
    {
      "cell_type": "code",
      "source": [
        "!pip install dbfread\n",
        "!apt install ace_tools"
      ],
      "metadata": {
        "id": "7CchBlZ_Kz_A"
      },
      "execution_count": null,
      "outputs": []
    },
    {
      "cell_type": "code",
      "source": [
        "import pandas as pd\n",
        "from dbfread import DBF\n",
        "\n",
        "# Path to the VAT table\n",
        "dbf_path = \"/content/Datasets_Hackathon/MODIS_Gross_Primary_Production_GPP/2010_GP.tif.vat.dbf\"\n",
        "\n",
        "# Read the DBF file\n",
        "table = DBF(dbf_path)\n",
        "df = pd.DataFrame(iter(table))\n",
        "\n",
        "# Display the first few rows\n",
        "import ace_tools as tools\n",
        "tools.display_dataframe_to_user(name=\"Value Attribute Table\", dataframe=df)\n"
      ],
      "metadata": {
        "id": "meu8XoHHKrhh"
      },
      "execution_count": null,
      "outputs": []
    },
    {
      "cell_type": "code",
      "source": [
        "import xml.etree.ElementTree as ET\n",
        "\n",
        "# Load XML file\n",
        "xml_path = \"/content/Datasets_Hackathon/MODIS_Gross_Primary_Production_GPP/2010_GP.tif.xml\"\n",
        "\n",
        "tree = ET.parse(xml_path)\n",
        "root = tree.getroot()\n",
        "\n",
        "# Extract key metadata\n",
        "metadata = {\n",
        "    \"Creation Date\": root.find(\".//CreaDate\").text if root.find(\".//CreaDate\") is not None else \"N/A\",\n",
        "    \"Creation Time\": root.find(\".//CreaTime\").text if root.find(\".//CreaTime\") is not None else \"N/A\",\n",
        "    \"ArcGIS Format\": root.find(\".//ArcGISFormat\").text if root.find(\".//ArcGISFormat\") is not None else \"N/A\",\n",
        "}\n",
        "\n",
        "print(\"Metadata Extracted:\", metadata)"
      ],
      "metadata": {
        "id": "DH_qbCM-Lvxv"
      },
      "execution_count": null,
      "outputs": []
    },
    {
      "cell_type": "code",
      "source": [
        "# Load aux.xml file\n",
        "aux_xml_path = \"/content/Datasets_Hackathon/MODIS_Gross_Primary_Production_GPP/2010_GP.tif.aux.xml\"\n",
        "\n",
        "tree = ET.parse(aux_xml_path)\n",
        "root = tree.getroot()\n",
        "\n",
        "# Extract histogram counts\n",
        "hist_counts = root.find(\".//HistCounts\").text if root.find(\".//HistCounts\") is not None else None\n",
        "\n",
        "if hist_counts:\n",
        "    hist_values = list(map(int, hist_counts.split(\"|\")))\n",
        "    hist_values.pop(-1)\n",
        "    # Plot Histogram\n",
        "    plt.figure(figsize=(10, 5))\n",
        "    plt.plot(hist_values, color='blue')\n",
        "    plt.xlim(0, 4000)\n",
        "    plt.title(\"CO₂ Absorption Map (kg_C/m²/year)\")\n",
        "    plt.xlabel(\"Pixel Value Range\")\n",
        "    plt.ylabel(\"Frequency\")\n",
        "    plt.show()\n",
        "else:\n",
        "    print(\"No histogram data found.\")\n"
      ],
      "metadata": {
        "id": "C6tNDOlVMauw"
      },
      "execution_count": null,
      "outputs": []
    },
    {
      "cell_type": "code",
      "source": [
        "len(hist_values)\n",
        "print(max(hist_values))\n",
        "print(min(hist_values))\n",
        "print(last_nonzero_index(hist_values))"
      ],
      "metadata": {
        "id": "ubViFRcwUgv5"
      },
      "execution_count": null,
      "outputs": []
    },
    {
      "cell_type": "code",
      "source": [
        "def last_nonzero_index(lst):\n",
        "    for i in range(len(lst) - 1, -1, -1):  # Iterate from the end to the start\n",
        "        if lst[i] > 0:\n",
        "            return i  # Return the index of the last non-zero value\n",
        "    return None"
      ],
      "metadata": {
        "id": "LRYSFU9NWRJv"
      },
      "execution_count": null,
      "outputs": []
    },
    {
      "cell_type": "code",
      "source": [
        "raster_data"
      ],
      "metadata": {
        "id": "2MBYGsImNvSy"
      },
      "execution_count": null,
      "outputs": []
    },
    {
      "cell_type": "code",
      "source": [
        "with rasterio.open(\"/content/Datasets_Hackathon/MODIS_Gross_Primary_Production_GPP/2010_GP.tif\") as dataset:\n",
        "    print(\"Raster Bounds:\", dataset.bounds)\n",
        "    print(\"Pixel Size:\", dataset.res)"
      ],
      "metadata": {
        "id": "g-tqqVmDP-Ky"
      },
      "execution_count": null,
      "outputs": []
    },
    {
      "cell_type": "code",
      "source": [
        "import numpy as np\n",
        "import rasterio\n",
        "\n",
        "# Define the masked output file\n",
        "masked_output_raster = \"/content/Datasets_Hackathon/MODIS_Gross_Primary_Production_GPP/2010_GP_WGS84_masked.tif\"\n",
        "\n",
        "with rasterio.open(\"/content/Datasets_Hackathon/MODIS_Gross_Primary_Production_GPP/2010_GP.tif\") as src:\n",
        "    raster_data = src.read(1)  # Read the first band\n",
        "    nodata_value = 65533  # Define no data value\n",
        "\n",
        "    # Create a mask (set No Data pixels to NaN)\n",
        "    raster_data = np.where(raster_data >= nodata_value, np.nan, raster_data)\n",
        "\n",
        "    # Save the new masked raster\n",
        "    new_meta = src.meta.copy()\n",
        "    new_meta.update(dtype=rasterio.float32, nodata=np.nan)\n",
        "\n",
        "    with rasterio.open(masked_output_raster, \"w\", **new_meta) as dst:\n",
        "        dst.write(raster_data.astype(rasterio.float32), 1)\n",
        "\n",
        "print(\"✅ Masking completed! Saved as:\", masked_output_raster)"
      ],
      "metadata": {
        "id": "EWWkXPRZRRds"
      },
      "execution_count": null,
      "outputs": []
    },
    {
      "cell_type": "code",
      "source": [
        "import matplotlib.pyplot as plt\n",
        "from rasterio.plot import show\n",
        "\n",
        "# Open the masked raster\n",
        "with rasterio.open(masked_output_raster) as src:\n",
        "    fig, ax = plt.subplots(figsize=(10, 6))\n",
        "    show(src, ax=ax, cmap=\"viridis\")  # Use \"viridis\" color map for visualization\n",
        "    plt.title(\"CO₂ Absorption Map (kg_C/m²/year)\")\n",
        "    plt.colorbar(ax.images[0], label=\"Carbon Absorption (kg_C/m²/year)\")\n",
        "    plt.show()\n"
      ],
      "metadata": {
        "id": "NMcSA-nYRvLD"
      },
      "execution_count": null,
      "outputs": []
    },
    {
      "cell_type": "code",
      "source": [
        "unique_values, counts = np.unique(raster_data, return_counts=True)\n",
        "\n",
        "print(\"Unique Values:\", unique_values)"
      ],
      "metadata": {
        "id": "qoz6D8lRR-Rz"
      },
      "execution_count": null,
      "outputs": []
    },
    {
      "cell_type": "code",
      "source": [
        "import rasterio\n",
        "import matplotlib.pyplot as plt\n",
        "import numpy as np\n",
        "\n",
        "file_path = \"/content/Datasets_Hackathon/MODIS_Gross_Primary_Production_GPP/2010_GP.tif\"\n",
        "\n",
        "with rasterio.open(file_path) as dataset:\n",
        "    # Read the first band (assuming single-band raster)\n",
        "    raster_data = dataset.read(1)\n",
        "\n",
        "    # Print metadata\n",
        "    print(\"Metadata:\", dataset.meta)\n",
        "\n",
        "    # Display raster\n",
        "    plt.figure(figsize=(10, 6))\n",
        "    plt.imshow(raster_data, cmap='viridis')\n",
        "    plt.colorbar(label=\"Pixel Values\")\n",
        "    plt.title(\"Raster Data Visualization\")\n",
        "    plt.show()"
      ],
      "metadata": {
        "id": "50xd-XDtXrBT"
      },
      "execution_count": null,
      "outputs": []
    },
    {
      "cell_type": "code",
      "source": [
        "!pip install dbfread\n",
        "!apt install ace_tools"
      ],
      "metadata": {
        "id": "5GPnpmmVXrBV"
      },
      "execution_count": null,
      "outputs": []
    },
    {
      "cell_type": "code",
      "source": [
        "import pandas as pd\n",
        "from dbfread import DBF\n",
        "\n",
        "# Path to the VAT table\n",
        "dbf_path = \"/content/Datasets_Hackathon/MODIS_Gross_Primary_Production_GPP/2010_GP.tif.vat.dbf\"\n",
        "\n",
        "# Read the DBF file\n",
        "table = DBF(dbf_path)\n",
        "df = pd.DataFrame(iter(table))\n",
        "\n",
        "# Display the first few rows\n",
        "import ace_tools as tools\n",
        "tools.display_dataframe_to_user(name=\"Value Attribute Table\", dataframe=df)\n"
      ],
      "metadata": {
        "id": "ck0daiZ-XrBV"
      },
      "execution_count": null,
      "outputs": []
    },
    {
      "cell_type": "code",
      "source": [
        "import xml.etree.ElementTree as ET\n",
        "\n",
        "# Load XML file\n",
        "xml_path = \"/content/Datasets_Hackathon/MODIS_Gross_Primary_Production_GPP/2010_GP.tif.xml\"\n",
        "\n",
        "tree = ET.parse(xml_path)\n",
        "root = tree.getroot()\n",
        "\n",
        "# Extract key metadata\n",
        "metadata = {\n",
        "    \"Creation Date\": root.find(\".//CreaDate\").text if root.find(\".//CreaDate\") is not None else \"N/A\",\n",
        "    \"Creation Time\": root.find(\".//CreaTime\").text if root.find(\".//CreaTime\") is not None else \"N/A\",\n",
        "    \"ArcGIS Format\": root.find(\".//ArcGISFormat\").text if root.find(\".//ArcGISFormat\") is not None else \"N/A\",\n",
        "}\n",
        "\n",
        "print(\"Metadata Extracted:\", metadata)"
      ],
      "metadata": {
        "id": "d0yx0n87XrBW"
      },
      "execution_count": null,
      "outputs": []
    },
    {
      "cell_type": "code",
      "source": [
        "# Load aux.xml file\n",
        "aux_xml_path = \"/content/Datasets_Hackathon/MODIS_Gross_Primary_Production_GPP/2010_GP.tif.aux.xml\"\n",
        "\n",
        "tree = ET.parse(aux_xml_path)\n",
        "root = tree.getroot()\n",
        "\n",
        "# Extract histogram counts\n",
        "hist_counts = root.find(\".//HistCounts\").text if root.find(\".//HistCounts\") is not None else None\n",
        "\n",
        "if hist_counts:\n",
        "    hist_values = list(map(int, hist_counts.split(\"|\")))\n",
        "    hist_values.pop(-1)\n",
        "    # Plot Histogram\n",
        "    plt.figure(figsize=(10, 5))\n",
        "    plt.plot(hist_values, color='blue')\n",
        "    plt.xlim(0, 4000)\n",
        "    plt.title(\"CO₂ Absorption Map (kg_C/m²/year)\")\n",
        "    plt.xlabel(\"Pixel Value Range\")\n",
        "    plt.ylabel(\"Frequency\")\n",
        "    plt.show()\n",
        "else:\n",
        "    print(\"No histogram data found.\")\n"
      ],
      "metadata": {
        "id": "Xbr0vHI2XrBW"
      },
      "execution_count": null,
      "outputs": []
    },
    {
      "cell_type": "code",
      "source": [
        "len(hist_values)\n",
        "print(max(hist_values))\n",
        "print(min(hist_values))\n",
        "print(last_nonzero_index(hist_values))"
      ],
      "metadata": {
        "id": "VXzsTt_bXrBX"
      },
      "execution_count": null,
      "outputs": []
    },
    {
      "cell_type": "code",
      "source": [
        "def last_nonzero_index(lst):\n",
        "    for i in range(len(lst) - 1, -1, -1):  # Iterate from the end to the start\n",
        "        if lst[i] > 0:\n",
        "            return i  # Return the index of the last non-zero value\n",
        "    return None"
      ],
      "metadata": {
        "id": "IgWi561nXrBX"
      },
      "execution_count": null,
      "outputs": []
    },
    {
      "cell_type": "code",
      "source": [
        "raster_data"
      ],
      "metadata": {
        "id": "SInriL4FXrBX"
      },
      "execution_count": null,
      "outputs": []
    },
    {
      "cell_type": "code",
      "source": [
        "with rasterio.open(\"/content/Datasets_Hackathon/MODIS_Gross_Primary_Production_GPP/2010_GP.tif\") as dataset:\n",
        "    print(\"Raster Bounds:\", dataset.bounds)\n",
        "    print(\"Pixel Size:\", dataset.res)"
      ],
      "metadata": {
        "id": "446NqMNkXrBY"
      },
      "execution_count": null,
      "outputs": []
    },
    {
      "cell_type": "code",
      "source": [
        "import numpy as np\n",
        "import rasterio\n",
        "\n",
        "# Define the masked output file\n",
        "masked_output_raster = \"/content/Datasets_Hackathon/MODIS_Gross_Primary_Production_GPP/2010_GP_WGS84_masked.tif\"\n",
        "\n",
        "with rasterio.open(\"/content/Datasets_Hackathon/MODIS_Gross_Primary_Production_GPP/2010_GP.tif\") as src:\n",
        "    raster_data = src.read(1)  # Read the first band\n",
        "    nodata_value = 65533  # Define no data value\n",
        "\n",
        "    # Create a mask (set No Data pixels to NaN)\n",
        "    raster_data = np.where(raster_data >= nodata_value, np.nan, raster_data)\n",
        "\n",
        "    # Save the new masked raster\n",
        "    new_meta = src.meta.copy()\n",
        "    new_meta.update(dtype=rasterio.float32, nodata=np.nan)\n",
        "\n",
        "    with rasterio.open(masked_output_raster, \"w\", **new_meta) as dst:\n",
        "        dst.write(raster_data.astype(rasterio.float32), 1)\n",
        "\n",
        "print(\"✅ Masking completed! Saved as:\", masked_output_raster)"
      ],
      "metadata": {
        "id": "p6ZoNn2MXrBY"
      },
      "execution_count": null,
      "outputs": []
    },
    {
      "cell_type": "code",
      "source": [
        "import matplotlib.pyplot as plt\n",
        "from rasterio.plot import show\n",
        "\n",
        "# Open the masked raster\n",
        "with rasterio.open(masked_output_raster) as src:\n",
        "    fig, ax = plt.subplots(figsize=(10, 6))\n",
        "    show(src, ax=ax, cmap=\"viridis\")  # Use \"viridis\" color map for visualization\n",
        "    plt.title(\"CO₂ Absorption Map (kg_C/m²/year)\")\n",
        "    plt.colorbar(ax.images[0], label=\"Carbon Absorption (kg_C/m²/year)\")\n",
        "    plt.show()\n"
      ],
      "metadata": {
        "id": "tGfPIePjXrBY"
      },
      "execution_count": null,
      "outputs": []
    },
    {
      "cell_type": "code",
      "source": [
        "unique_values, counts = np.unique(raster_data, return_counts=True)\n",
        "\n",
        "print(\"Unique Values:\", unique_values)"
      ],
      "metadata": {
        "id": "Jlbf-V0dXrBY"
      },
      "execution_count": null,
      "outputs": []
    },
    {
      "cell_type": "code",
      "source": [
        "import rasterio\n",
        "import matplotlib.pyplot as plt\n",
        "import numpy as np\n",
        "\n",
        "file_path = \"/content/Datasets_Hackathon/MODIS_Gross_Primary_Production_GPP/2010_GP.tif\"\n",
        "\n",
        "with rasterio.open(file_path) as dataset:\n",
        "    # Read the first band (assuming single-band raster)\n",
        "    raster_data = dataset.read(1)\n",
        "\n",
        "    # Print metadata\n",
        "    print(\"Metadata:\", dataset.meta)\n",
        "\n",
        "    # Display raster\n",
        "    plt.figure(figsize=(10, 6))\n",
        "    plt.imshow(raster_data, cmap='viridis')\n",
        "    plt.colorbar(label=\"Pixel Values\")\n",
        "    plt.title(\"Raster Data Visualization\")\n",
        "    plt.show()"
      ],
      "metadata": {
        "id": "76120YveJkyz"
      },
      "execution_count": null,
      "outputs": []
    },
    {
      "cell_type": "code",
      "source": [
        "import rasterio\n",
        "import numpy as np\n",
        "import matplotlib.pyplot as plt\n",
        "\n",
        "# Load the raster file\n",
        "with rasterio.open(\"/content/Datasets_Hackathon/MODIS_Gross_Primary_Production_GPP/2010_GP_WGS84_masked.tif\") as dataset:\n",
        "    raster_data = dataset.read(1)  # Read first band\n",
        "\n",
        "# Remove No Data values\n",
        "nodata_value = 60000\n",
        "raster_data = np.where(raster_data >= nodata_value, np.nan, raster_data)\n",
        "\n",
        "# Flatten the raster for ML processing\n",
        "X = raster_data.flatten()\n",
        "X = X[~np.isnan(X)]  # Remove NaN values\n",
        "\n",
        "print(\"✅ Data loaded! Shape:\", X.shape)\n"
      ],
      "metadata": {
        "id": "ay7sBoiweTCZ"
      },
      "execution_count": null,
      "outputs": []
    },
    {
      "cell_type": "code",
      "source": [
        "from sklearn.ensemble import IsolationForest\n",
        "\n",
        "# Train an Isolation Forest model\n",
        "iso_forest = IsolationForest(contamination=0.05, random_state=42)  # 5% anomaly detection\n",
        "anomalies = iso_forest.fit_predict(X.reshape(-1, 1))\n",
        "\n",
        "# Convert anomalies to boolean mask\n",
        "anomalies = anomalies == -1  # True for anomalies\n",
        "print(\"✅ Detected\", anomalies.sum(), \"anomalous pixels!\")"
      ],
      "metadata": {
        "id": "_V44aXy4eYVK"
      },
      "execution_count": null,
      "outputs": []
    },
    {
      "cell_type": "code",
      "source": [
        "anomaly_mask = np.full(raster_data.shape, False)  # Default: no anomaly\n",
        "valid_pixels = ~np.isnan(raster_data)  # Mask for valid pixels\n",
        "anomaly_mask[valid_pixels] = anomalies  # Apply anomalies\n",
        "\n",
        "# Plot the anomaly map\n",
        "plt.figure(figsize=(10, 6))\n",
        "plt.imshow(anomaly_mask, cmap=\"Reds\", interpolation=\"nearest\")\n",
        "plt.colorbar(label=\"Anomaly (Deforestation)\")\n",
        "plt.title(\"Deforestation Anomaly Detection\")\n",
        "plt.show()"
      ],
      "metadata": {
        "id": "d197nnM6ejIF"
      },
      "execution_count": null,
      "outputs": []
    },
    {
      "cell_type": "code",
      "source": [
        "import rasterio\n",
        "import numpy as np\n",
        "\n",
        "# List of raster files (change file names accordingly)\n",
        "years = list(range(2010, 2023))  # Example: 2000 to 2020\n",
        "years = [str(year) for year in years]\n",
        "# Dictionary to store raster data for each year\n",
        "raster_data = {}\n",
        "\n",
        "# Load rasters for each year\n",
        "for year in years:\n",
        "    file_path = f\"/content/Datasets_Hackathon/MODIS_Gross_Primary_Production_GPP/{year}_GP.tif\"  # Modify filename format if needed\n",
        "    with rasterio.open(file_path) as dataset:\n",
        "        data = dataset.read(1)\n",
        "\n",
        "    # Remove No Data values (65535)\n",
        "    data = np.where(data >= 65533, np.nan, data)\n",
        "\n",
        "    raster_data[year] = data\n",
        "\n",
        "print(\"✅ Loaded raster data for all years!\")\n"
      ],
      "metadata": {
        "id": "GHRNUzbLfB-1"
      },
      "execution_count": null,
      "outputs": []
    },
    {
      "cell_type": "code",
      "source": [
        "raster_data['2010']"
      ],
      "metadata": {
        "id": "GTXbBE0egeMy"
      },
      "execution_count": null,
      "outputs": []
    },
    {
      "cell_type": "code",
      "source": [
        "from sklearn.ensemble import IsolationForest\n",
        "\n",
        "# Dictionary to store anomaly masks\n",
        "anomaly_masks = {}\n",
        "\n",
        "for year, data in raster_data.items():\n",
        "    # Flatten and remove NaNs\n",
        "    X = data.flatten()\n",
        "    X = X[~np.isnan(X)]\n",
        "\n",
        "    # Train Isolation Forest\n",
        "    iso_forest = IsolationForest(contamination=0.05, random_state=42)\n",
        "    anomalies = iso_forest.fit_predict(X.reshape(-1, 1))\n",
        "\n",
        "    # Convert to binary mask\n",
        "    anomaly_mask = np.full(data.shape, False)  # Default: no anomaly\n",
        "    valid_pixels = ~np.isnan(data)  # Ignore NaN values\n",
        "    anomaly_mask[valid_pixels] = anomalies == -1  # Mark anomalies\n",
        "\n",
        "    anomaly_masks[year] = anomaly_mask\n",
        "\n",
        "print(\"✅ Anomaly detection completed for all years!\")\n"
      ],
      "metadata": {
        "id": "gxb8TVtGgn0-"
      },
      "execution_count": null,
      "outputs": []
    },
    {
      "cell_type": "code",
      "source": [
        "# Dictionary to store deforestation changes\n",
        "deforestation_changes = {}\n",
        "years = list(raster_data.keys())\n",
        "# Compute year-over-year deforestation\n",
        "for i in range(1, len(years)):  # Iterate through years\n",
        "    prev_year = years[i - 1]\n",
        "    curr_year = years[i]\n",
        "\n",
        "    # Compute areas that became deforested in the current year compared to the previous year\n",
        "    deforestation_changes[f\"{prev_year}_{curr_year}\"] = anomaly_masks[curr_year] & ~anomaly_masks[prev_year]\n",
        "\n",
        "print(\"✅ Computed year-over-year deforestation changes!\")"
      ],
      "metadata": {
        "id": "iCoC6qzZguka"
      },
      "execution_count": null,
      "outputs": []
    },
    {
      "cell_type": "code",
      "source": [
        "deforestation_changes.keys()"
      ],
      "metadata": {
        "id": "XpNWS0zVhbwC"
      },
      "execution_count": null,
      "outputs": []
    },
    {
      "cell_type": "code",
      "source": [
        "years_pairs = list(deforestation_changes.keys())"
      ],
      "metadata": {
        "id": "cKF5bT5uh8qB"
      },
      "execution_count": null,
      "outputs": []
    },
    {
      "cell_type": "code",
      "source": [
        "import math\n",
        "# Number of subplots (1 row, N columns)\n",
        "num_years = len(years)\n",
        "\n",
        "num_cols = 3  # Maximum columns per row\n",
        "num_rows = math.ceil(num_years / num_cols)  # Compute number of rows\n",
        "\n",
        "# Create figure dynamically\n",
        "fig, axes = plt.subplots(num_rows, num_cols, figsize=(5 * num_cols, 5 * num_rows))\n",
        "\n",
        "# Flatten axes array for easy iteration (works even if there's only 1 row)\n",
        "axes = axes.flatten()\n",
        "\n",
        "\n",
        "# If only 1 year pair, make axes a list for compatibility\n",
        "if num_years == 1:\n",
        "    axes = [axes]\n",
        "\n",
        "# Loop through each year pair and plot deforestation\n",
        "for i, year_pair in enumerate(years_pairs):\n",
        "    axes[i].imshow(deforestation_changes[year_pair], cmap=\"Reds\", interpolation=\"nearest\")\n",
        "    axes[i].set_title(f\"Deforestation {year_pair.replace('_', ' → ')}\")  # Format title (e.g., \"2001 → 2002\")\n",
        "\n",
        "# Hide any extra empty subplots\n",
        "for j in range(i + 1, len(axes)):\n",
        "    axes[j].axis(\"off\")\n",
        "\n",
        "plt.tight_layout()\n",
        "plt.show()"
      ],
      "metadata": {
        "id": "976PXVfuhg-2"
      },
      "execution_count": null,
      "outputs": []
    },
    {
      "cell_type": "code",
      "source": [
        "import matplotlib.pyplot as plt\n",
        "import imageio\n",
        "import os\n",
        "\n",
        "# Define output directory for temporary images\n",
        "output_dir = \"/mnt/data/deforestation_frames\"\n",
        "os.makedirs(output_dir, exist_ok=True)  # Create folder if it doesn't exist\n",
        "\n",
        "# Get sorted year pairs\n",
        "years = sorted(deforestation_changes.keys())\n",
        "\n",
        "# List to store frame file paths\n",
        "frame_files = []\n",
        "\n",
        "# Generate and save each frame\n",
        "for i, year_pair in enumerate(years):\n",
        "    fig, ax = plt.subplots(figsize=(6, 6))\n",
        "\n",
        "    ax.imshow(deforestation_changes[year_pair], cmap=\"Reds\", interpolation=\"nearest\")\n",
        "    ax.set_title(f\"Deforestation {year_pair.replace('_', ' → ')}\")\n",
        "\n",
        "    # Save frame\n",
        "    frame_path = os.path.join(output_dir, f\"frame_{i}.png\")\n",
        "    plt.savefig(frame_path, bbox_inches=\"tight\")\n",
        "    frame_files.append(frame_path)\n",
        "\n",
        "    plt.close()  # Close figure to save memory\n",
        "\n",
        "print(\"✅ Frames saved!\")\n",
        "\n",
        "# Create animated GIF\n",
        "gif_path = \"/mnt/data/deforestation_animation.gif\"\n",
        "imageio.mimsave(gif_path, [imageio.imread(f) for f in frame_files], duration=2)\n",
        "\n",
        "print(f\"✅ Animated GIF saved at: {gif_path}\")"
      ],
      "metadata": {
        "id": "t5CQxaCli_xO"
      },
      "execution_count": null,
      "outputs": []
    },
    {
      "cell_type": "code",
      "source": [
        "import geopandas as gpd\n",
        "\n",
        "africa_boundaries = gpd.read_file('/content/Africa_Boundaries.shp')\n"
      ],
      "metadata": {
        "id": "UVYaScUtkc4i"
      },
      "execution_count": null,
      "outputs": []
    },
    {
      "cell_type": "code",
      "source": [
        "import matplotlib.pyplot as plt\n",
        "\n",
        "fig, ax = plt.subplots(figsize=(10, 10))\n",
        "ax.imshow(deforestation_changes[\"2010_2011\"], cmap='Reds', interpolation='nearest')\n",
        "#africa_boundaries.boundary.plot(ax=ax, color='black', linewidth=1)\n",
        "plt.show()\n"
      ],
      "metadata": {
        "id": "eMBoxax4kwgo"
      },
      "execution_count": null,
      "outputs": []
    }
  ]
}